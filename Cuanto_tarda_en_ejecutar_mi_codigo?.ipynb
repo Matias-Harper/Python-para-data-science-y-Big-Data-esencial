{
  "nbformat": 4,
  "nbformat_minor": 0,
  "metadata": {
    "colab": {
      "provenance": [],
      "authorship_tag": "ABX9TyPXVnaFBiDD7/Jc4zTpBcMt",
      "include_colab_link": true
    },
    "kernelspec": {
      "name": "python3",
      "display_name": "Python 3"
    },
    "language_info": {
      "name": "python"
    }
  },
  "cells": [
    {
      "cell_type": "markdown",
      "metadata": {
        "id": "view-in-github",
        "colab_type": "text"
      },
      "source": [
        "<a href=\"https://colab.research.google.com/github/Matias-Harper/Python-para-data-science-y-Big-Data-esencial/blob/main/Cuanto_tarda_en_ejecutar_mi_codigo%3F.ipynb\" target=\"_parent\"><img src=\"https://colab.research.google.com/assets/colab-badge.svg\" alt=\"Open In Colab\"/></a>"
      ]
    },
    {
      "cell_type": "code",
      "execution_count": null,
      "metadata": {
        "colab": {
          "base_uri": "https://localhost:8080/"
        },
        "id": "v_Ae6Nxf5OXz",
        "outputId": "777b9192-55b2-45d1-e03c-683130005cf2"
      },
      "outputs": [
        {
          "output_type": "stream",
          "name": "stdout",
          "text": [
            "0.5060408115386963\n"
          ]
        }
      ],
      "source": [
        "import time\n",
        "\n",
        "start = time.time()\n",
        "#medimos el tiempo en que corre el codigo\n",
        "\n",
        "#aca va nuestro codigo, como ejemplo haremos que tarde medio segundo\n",
        "time.sleep(0.5)\n",
        "\n",
        "end = time.time()\n",
        "\n",
        "print(end - start)"
      ]
    },
    {
      "cell_type": "code",
      "source": [
        "#otra manera\n",
        "from datetime import timedelta\n",
        "\n",
        "start= time.monotonic()\n",
        "\n",
        "#aca va nuestro codigo con el ejemplo nuevamente\n",
        "time.sleep(0.5)\n",
        "\n",
        "end = time.monotonic()\n",
        "print(timedelta(seconds= (end - start)))"
      ],
      "metadata": {
        "colab": {
          "base_uri": "https://localhost:8080/"
        },
        "id": "FUF3xaoN54tw",
        "outputId": "ce0f3445-1e9a-4924-c985-6b9345e61a0a"
      },
      "execution_count": null,
      "outputs": [
        {
          "output_type": "stream",
          "name": "stdout",
          "text": [
            "0:00:00.500913\n"
          ]
        }
      ]
    }
  ]
}